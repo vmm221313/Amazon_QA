{
 "cells": [
  {
   "cell_type": "code",
   "execution_count": 21,
   "metadata": {},
   "outputs": [],
   "source": [
    "import pickle\n",
    "import pandas as po\n",
    "from tqdm import tqdm"
   ]
  },
  {
   "cell_type": "code",
   "execution_count": 2,
   "metadata": {
    "tags": []
   },
   "outputs": [],
   "source": [
    "with open('data/data_v2/Auto_meta_qar.pkl', 'rb') as f:\n",
    "    data = pickle.load(f)"
   ]
  },
  {
   "cell_type": "code",
   "execution_count": 3,
   "metadata": {},
   "outputs": [
    {
     "output_type": "execute_result",
     "data": {
      "text/plain": "2599"
     },
     "metadata": {},
     "execution_count": 3
    }
   ],
   "source": [
    "len(data)"
   ]
  },
  {
   "cell_type": "code",
   "execution_count": 4,
   "metadata": {},
   "outputs": [
    {
     "output_type": "execute_result",
     "data": {
      "text/plain": "{'title': 'Astro 7886 A/C Compressor Clutch Installer/Remover Kit',\n 'category': ['Automotive',\n  'Replacement Parts',\n  'Transmission & Drive Train',\n  'Clutches & Parts'],\n 'description': [\"AST7886 Features: -Replaces clutches found on FS6, C171, 6P, and 148 compressors. -2 and 3 hole puller plate fits most clutches, mechanical force does the pulling. -Blow molded case for easy storage and transport. -A/C Compressor Clutch Installer/Remover Kit. Product Type: -Exhaust Shuttes. Generic Specifications: -GM R4 and A6, HR -6, DA -6 and V5 A/C compressors, Sanded compressors SD505, 507, 510, 708, and 709. Generic Dimensions: -Case 23''L x 10'' W x 2''H. Dimensions: Overall Height - Top to Bottom: -2.25 Inches. Overall Width - Side to Side: -8.25 Inches. Overall Depth - Front to Back: -9.25 Inches. Overall Product Weight: -3.11 Pounds.\",\n  'Symptoms of a bad compressor or compressor clutch include poor or no cooling, and a noisy or seized compressor.'],\n 'questions_answers': [['will it work on a 04 silverado 5.3l',\n   'Y',\n   ['I recieved, but never used it yet.',\n    \"I bought this tool set to take my auto AC compressor clutch off but when I went to use it I found I didn't need to take the clutch off after all.\",\n    'I did not have to move or remove the compressor',\n    \"At least on one compressor.The other compressor was a no-go as this kit didn't have the proper parts to pull the clutch.Quality and finish is acceptable, not great.\",\n    'Easy to use.',\n    'The installation of the clutchplate was a bit more difficult requiring several 1/2\" flatwashers for spacers as I pressed the clutch in place.The operation was a success.',\n    \"But this is such a nice set of tools in such a nice case I'm glad I have it for future use.\",\n    'Great tool kit to have.',\n    'The removal went wellwith the metric GM tool.',\n    'I used this tool kit on a 1990 GMC K3500 1 ton truck.In general the tool worked well.']],\n  ['will it work on 99 silverado v8',\n   'Y',\n   ['I recieved, but never used it yet.',\n    'Easy to use.',\n    'I did not have to move or remove the compressor',\n    \"At least on one compressor.The other compressor was a no-go as this kit didn't have the proper parts to pull the clutch.Quality and finish is acceptable, not great.\",\n    \"But this is such a nice set of tools in such a nice case I'm glad I have it for future use.\",\n    'Great tool kit to have.',\n    \"I bought this tool set to take my auto AC compressor clutch off but when I went to use it I found I didn't need to take the clutch off after all.\",\n    'It looked like it would work very well....',\n    'The removal went wellwith the metric GM tool.',\n    'The installation of the clutchplate was a bit more difficult requiring several 1/2\" flatwashers for spacers as I pressed the clutch in place.The operation was a success.']],\n  ['will this work on a 99 chevy S-10   2.2L motor',\n   'Y',\n   ['Easy to use.',\n    'I recieved, but never used it yet.',\n    'It looked like it would work very well....',\n    'I did not have to move or remove the compressor',\n    \"But this is such a nice set of tools in such a nice case I'm glad I have it for future use.\",\n    'Great tool kit to have.',\n    \"At least on one compressor.The other compressor was a no-go as this kit didn't have the proper parts to pull the clutch.Quality and finish is acceptable, not great.\",\n    'The removal went wellwith the metric GM tool.',\n    \"I bought this tool set to take my auto AC compressor clutch off but when I went to use it I found I didn't need to take the clutch off after all.\",\n    'The installation of the clutchplate was a bit more difficult requiring several 1/2\" flatwashers for spacers as I pressed the clutch in place.The operation was a success.']]]}"
     },
     "metadata": {},
     "execution_count": 4
    }
   ],
   "source": [
    "row = data[list(data.keys())[0]]\n",
    "row"
   ]
  },
  {
   "cell_type": "code",
   "execution_count": 5,
   "metadata": {},
   "outputs": [
    {
     "output_type": "execute_result",
     "data": {
      "text/plain": "'Astro 7886 A/C Compressor Clutch Installer/Remover Kit'"
     },
     "metadata": {},
     "execution_count": 5
    }
   ],
   "source": [
    "row['title']"
   ]
  },
  {
   "cell_type": "code",
   "execution_count": 6,
   "metadata": {},
   "outputs": [
    {
     "output_type": "execute_result",
     "data": {
      "text/plain": "['Automotive',\n 'Replacement Parts',\n 'Transmission & Drive Train',\n 'Clutches & Parts']"
     },
     "metadata": {},
     "execution_count": 6
    }
   ],
   "source": [
    "row['category']"
   ]
  },
  {
   "cell_type": "code",
   "execution_count": 7,
   "metadata": {},
   "outputs": [
    {
     "output_type": "execute_result",
     "data": {
      "text/plain": "[\"AST7886 Features: -Replaces clutches found on FS6, C171, 6P, and 148 compressors. -2 and 3 hole puller plate fits most clutches, mechanical force does the pulling. -Blow molded case for easy storage and transport. -A/C Compressor Clutch Installer/Remover Kit. Product Type: -Exhaust Shuttes. Generic Specifications: -GM R4 and A6, HR -6, DA -6 and V5 A/C compressors, Sanded compressors SD505, 507, 510, 708, and 709. Generic Dimensions: -Case 23''L x 10'' W x 2''H. Dimensions: Overall Height - Top to Bottom: -2.25 Inches. Overall Width - Side to Side: -8.25 Inches. Overall Depth - Front to Back: -9.25 Inches. Overall Product Weight: -3.11 Pounds.\",\n 'Symptoms of a bad compressor or compressor clutch include poor or no cooling, and a noisy or seized compressor.']"
     },
     "metadata": {},
     "execution_count": 7
    }
   ],
   "source": [
    "row['description']"
   ]
  },
  {
   "cell_type": "code",
   "execution_count": 8,
   "metadata": {},
   "outputs": [
    {
     "output_type": "execute_result",
     "data": {
      "text/plain": "[['will it work on a 04 silverado 5.3l',\n  'Y',\n  ['I recieved, but never used it yet.',\n   \"I bought this tool set to take my auto AC compressor clutch off but when I went to use it I found I didn't need to take the clutch off after all.\",\n   'I did not have to move or remove the compressor',\n   \"At least on one compressor.The other compressor was a no-go as this kit didn't have the proper parts to pull the clutch.Quality and finish is acceptable, not great.\",\n   'Easy to use.',\n   'The installation of the clutchplate was a bit more difficult requiring several 1/2\" flatwashers for spacers as I pressed the clutch in place.The operation was a success.',\n   \"But this is such a nice set of tools in such a nice case I'm glad I have it for future use.\",\n   'Great tool kit to have.',\n   'The removal went wellwith the metric GM tool.',\n   'I used this tool kit on a 1990 GMC K3500 1 ton truck.In general the tool worked well.']],\n ['will it work on 99 silverado v8',\n  'Y',\n  ['I recieved, but never used it yet.',\n   'Easy to use.',\n   'I did not have to move or remove the compressor',\n   \"At least on one compressor.The other compressor was a no-go as this kit didn't have the proper parts to pull the clutch.Quality and finish is acceptable, not great.\",\n   \"But this is such a nice set of tools in such a nice case I'm glad I have it for future use.\",\n   'Great tool kit to have.',\n   \"I bought this tool set to take my auto AC compressor clutch off but when I went to use it I found I didn't need to take the clutch off after all.\",\n   'It looked like it would work very well....',\n   'The removal went wellwith the metric GM tool.',\n   'The installation of the clutchplate was a bit more difficult requiring several 1/2\" flatwashers for spacers as I pressed the clutch in place.The operation was a success.']],\n ['will this work on a 99 chevy S-10   2.2L motor',\n  'Y',\n  ['Easy to use.',\n   'I recieved, but never used it yet.',\n   'It looked like it would work very well....',\n   'I did not have to move or remove the compressor',\n   \"But this is such a nice set of tools in such a nice case I'm glad I have it for future use.\",\n   'Great tool kit to have.',\n   \"At least on one compressor.The other compressor was a no-go as this kit didn't have the proper parts to pull the clutch.Quality and finish is acceptable, not great.\",\n   'The removal went wellwith the metric GM tool.',\n   \"I bought this tool set to take my auto AC compressor clutch off but when I went to use it I found I didn't need to take the clutch off after all.\",\n   'The installation of the clutchplate was a bit more difficult requiring several 1/2\" flatwashers for spacers as I pressed the clutch in place.The operation was a success.']]]"
     },
     "metadata": {},
     "execution_count": 8
    }
   ],
   "source": [
    "row['questions_answers']"
   ]
  },
  {
   "cell_type": "code",
   "execution_count": 9,
   "metadata": {},
   "outputs": [
    {
     "output_type": "execute_result",
     "data": {
      "text/plain": "['will it work on a 04 silverado 5.3l',\n 'Y',\n ['I recieved, but never used it yet.',\n  \"I bought this tool set to take my auto AC compressor clutch off but when I went to use it I found I didn't need to take the clutch off after all.\",\n  'I did not have to move or remove the compressor',\n  \"At least on one compressor.The other compressor was a no-go as this kit didn't have the proper parts to pull the clutch.Quality and finish is acceptable, not great.\",\n  'Easy to use.',\n  'The installation of the clutchplate was a bit more difficult requiring several 1/2\" flatwashers for spacers as I pressed the clutch in place.The operation was a success.',\n  \"But this is such a nice set of tools in such a nice case I'm glad I have it for future use.\",\n  'Great tool kit to have.',\n  'The removal went wellwith the metric GM tool.',\n  'I used this tool kit on a 1990 GMC K3500 1 ton truck.In general the tool worked well.']]"
     },
     "metadata": {},
     "execution_count": 9
    }
   ],
   "source": [
    "row['questions_answers'][0]"
   ]
  },
  {
   "cell_type": "code",
   "execution_count": 10,
   "metadata": {},
   "outputs": [
    {
     "output_type": "execute_result",
     "data": {
      "text/plain": "'will it work on a 04 silverado 5.3l'"
     },
     "metadata": {},
     "execution_count": 10
    }
   ],
   "source": [
    "row['questions_answers'][0][0] # question"
   ]
  },
  {
   "cell_type": "code",
   "execution_count": 11,
   "metadata": {},
   "outputs": [
    {
     "output_type": "execute_result",
     "data": {
      "text/plain": "'Y'"
     },
     "metadata": {},
     "execution_count": 11
    }
   ],
   "source": [
    "row['questions_answers'][0][1] # label"
   ]
  },
  {
   "cell_type": "code",
   "execution_count": 12,
   "metadata": {},
   "outputs": [
    {
     "output_type": "execute_result",
     "data": {
      "text/plain": "['I recieved, but never used it yet.',\n \"I bought this tool set to take my auto AC compressor clutch off but when I went to use it I found I didn't need to take the clutch off after all.\",\n 'I did not have to move or remove the compressor',\n \"At least on one compressor.The other compressor was a no-go as this kit didn't have the proper parts to pull the clutch.Quality and finish is acceptable, not great.\",\n 'Easy to use.',\n 'The installation of the clutchplate was a bit more difficult requiring several 1/2\" flatwashers for spacers as I pressed the clutch in place.The operation was a success.',\n \"But this is such a nice set of tools in such a nice case I'm glad I have it for future use.\",\n 'Great tool kit to have.',\n 'The removal went wellwith the metric GM tool.',\n 'I used this tool kit on a 1990 GMC K3500 1 ton truck.In general the tool worked well.']"
     },
     "metadata": {},
     "execution_count": 12
    }
   ],
   "source": [
    "row['questions_answers'][0][2] # reviews"
   ]
  },
  {
   "cell_type": "code",
   "execution_count": 13,
   "metadata": {},
   "outputs": [],
   "source": [
    "X = []\n",
    "y = []"
   ]
  },
  {
   "cell_type": "code",
   "execution_count": 25,
   "metadata": {
    "tags": []
   },
   "outputs": [
    {
     "output_type": "stream",
     "name": "stderr",
     "text": "100%|██████████| 2599/2599 [00:18<00:00, 141.39it/s]\n"
    }
   ],
   "source": [
    "df = po.DataFrame()\n",
    "for key in tqdm(data, total=len(data)):\n",
    "    row = data[key]\n",
    "\n",
    "    meta = ' '.join([row['title'], ' '.join(row['category']), ' '.join(row['description'])])\n",
    "    \n",
    "    for i in range(len(row['questions_answers'])):\n",
    "        df_row = {}\n",
    "        df_row['meta'] = meta\n",
    "\n",
    "        ques = row['questions_answers'][i][0]\n",
    "        reviews = ' '.join(row['questions_answers'][i][2])\n",
    "        df_row['text'] = ' '.join([ques, reviews])\n",
    "\n",
    "        target = row['questions_answers'][i][1]\n",
    "        if target == 'Y':\n",
    "            df_row['target'] = 1 \n",
    "        elif target == 'N':\n",
    "            df_row['target'] = 0\n",
    "        else:\n",
    "            raise ValueError\n",
    "    \n",
    "        df = df.append(df_row, ignore_index=True)"
   ]
  },
  {
   "cell_type": "code",
   "execution_count": 26,
   "metadata": {},
   "outputs": [
    {
     "output_type": "execute_result",
     "data": {
      "text/plain": "                                                   meta  target  \\\n0     Astro 7886 A/C Compressor Clutch Installer/Rem...     1.0   \n1     Astro 7886 A/C Compressor Clutch Installer/Rem...     1.0   \n2     Astro 7886 A/C Compressor Clutch Installer/Rem...     1.0   \n3     Plasticolor Easy Fit Mud Guard 9\" - Set of 2 A...     1.0   \n4     Meguiar's M2 Mirror Glaze Fine-Cut Cleaner - 1...     1.0   \n...                                                 ...     ...   \n4891  Wipe New Trim Restorer Automotive Car Care Int...     1.0   \n4892  Wipe New Trim Restorer Automotive Car Care Int...     1.0   \n4893  Autel MaxiScan MS300 CAN Diagnostic Scan Tool ...     1.0   \n4894  Autel MaxiScan MS300 CAN Diagnostic Scan Tool ...     1.0   \n4895  Autel MaxiScan MS300 CAN Diagnostic Scan Tool ...     1.0   \n\n                                                   text  \n0     will it work on a 04 silverado 5.3l I recieved...  \n1     will it work on 99 silverado v8 I recieved, bu...  \n2     will this work on a 99 chevy S-10   2.2L motor...  \n3     will they fit  a 2014 lincoln navigator? these...  \n4     Can I use this instead of a clay bar for the c...  \n...                                                 ...  \n4891  does it work on headlights I wash my truck alm...  \n4892  can you use it on jeepwrangler fenders it is e...  \n4893  will it read a 2009 chevy Impala fuel system I...  \n4894  will this work on a 2006 nissan tiida it just ...  \n4895  will it work on 2001 subaru? The device is har...  \n\n[4896 rows x 3 columns]",
      "text/html": "<div>\n<style scoped>\n    .dataframe tbody tr th:only-of-type {\n        vertical-align: middle;\n    }\n\n    .dataframe tbody tr th {\n        vertical-align: top;\n    }\n\n    .dataframe thead th {\n        text-align: right;\n    }\n</style>\n<table border=\"1\" class=\"dataframe\">\n  <thead>\n    <tr style=\"text-align: right;\">\n      <th></th>\n      <th>meta</th>\n      <th>target</th>\n      <th>text</th>\n    </tr>\n  </thead>\n  <tbody>\n    <tr>\n      <th>0</th>\n      <td>Astro 7886 A/C Compressor Clutch Installer/Rem...</td>\n      <td>1.0</td>\n      <td>will it work on a 04 silverado 5.3l I recieved...</td>\n    </tr>\n    <tr>\n      <th>1</th>\n      <td>Astro 7886 A/C Compressor Clutch Installer/Rem...</td>\n      <td>1.0</td>\n      <td>will it work on 99 silverado v8 I recieved, bu...</td>\n    </tr>\n    <tr>\n      <th>2</th>\n      <td>Astro 7886 A/C Compressor Clutch Installer/Rem...</td>\n      <td>1.0</td>\n      <td>will this work on a 99 chevy S-10   2.2L motor...</td>\n    </tr>\n    <tr>\n      <th>3</th>\n      <td>Plasticolor Easy Fit Mud Guard 9\" - Set of 2 A...</td>\n      <td>1.0</td>\n      <td>will they fit  a 2014 lincoln navigator? these...</td>\n    </tr>\n    <tr>\n      <th>4</th>\n      <td>Meguiar's M2 Mirror Glaze Fine-Cut Cleaner - 1...</td>\n      <td>1.0</td>\n      <td>Can I use this instead of a clay bar for the c...</td>\n    </tr>\n    <tr>\n      <th>...</th>\n      <td>...</td>\n      <td>...</td>\n      <td>...</td>\n    </tr>\n    <tr>\n      <th>4891</th>\n      <td>Wipe New Trim Restorer Automotive Car Care Int...</td>\n      <td>1.0</td>\n      <td>does it work on headlights I wash my truck alm...</td>\n    </tr>\n    <tr>\n      <th>4892</th>\n      <td>Wipe New Trim Restorer Automotive Car Care Int...</td>\n      <td>1.0</td>\n      <td>can you use it on jeepwrangler fenders it is e...</td>\n    </tr>\n    <tr>\n      <th>4893</th>\n      <td>Autel MaxiScan MS300 CAN Diagnostic Scan Tool ...</td>\n      <td>1.0</td>\n      <td>will it read a 2009 chevy Impala fuel system I...</td>\n    </tr>\n    <tr>\n      <th>4894</th>\n      <td>Autel MaxiScan MS300 CAN Diagnostic Scan Tool ...</td>\n      <td>1.0</td>\n      <td>will this work on a 2006 nissan tiida it just ...</td>\n    </tr>\n    <tr>\n      <th>4895</th>\n      <td>Autel MaxiScan MS300 CAN Diagnostic Scan Tool ...</td>\n      <td>1.0</td>\n      <td>will it work on 2001 subaru? The device is har...</td>\n    </tr>\n  </tbody>\n</table>\n<p>4896 rows × 3 columns</p>\n</div>"
     },
     "metadata": {},
     "execution_count": 26
    }
   ],
   "source": [
    "df"
   ]
  },
  {
   "cell_type": "code",
   "execution_count": null,
   "metadata": {},
   "outputs": [],
   "source": [
    "df.to_csv('data/Auto_meta_qar.csv', index=False)"
   ]
  }
 ],
 "metadata": {
  "language_info": {
   "codemirror_mode": {
    "name": "ipython",
    "version": 3
   },
   "file_extension": ".py",
   "mimetype": "text/x-python",
   "name": "python",
   "nbconvert_exporter": "python",
   "pygments_lexer": "ipython3",
   "version": "3.7.7-final"
  },
  "orig_nbformat": 2,
  "kernelspec": {
   "name": "python_defaultSpec_1597833233214",
   "display_name": "Python 3.7.7 64-bit ('tf2': conda)"
  }
 },
 "nbformat": 4,
 "nbformat_minor": 2
}