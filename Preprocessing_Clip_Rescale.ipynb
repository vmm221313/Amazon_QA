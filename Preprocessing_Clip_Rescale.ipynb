{
 "cells": [
  {
   "cell_type": "code",
   "execution_count": 1,
   "metadata": {},
   "outputs": [],
   "source": [
    "import pickle\n",
    "import pandas as po\n",
    "from tqdm import tqdm"
   ]
  },
  {
   "cell_type": "code",
   "execution_count": 2,
   "metadata": {
    "tags": []
   },
   "outputs": [],
   "source": [
    "with open('data/data_v2/Auto_meta_qar.pkl', 'rb') as f:\n",
    "    data = pickle.load(f)"
   ]
  },
  {
   "cell_type": "code",
   "execution_count": 3,
   "metadata": {},
   "outputs": [
    {
     "output_type": "execute_result",
     "data": {
      "text/plain": "2599"
     },
     "metadata": {},
     "execution_count": 3
    }
   ],
   "source": [
    "len(data)"
   ]
  },
  {
   "cell_type": "code",
   "execution_count": 4,
   "metadata": {},
   "outputs": [
    {
     "output_type": "execute_result",
     "data": {
      "text/plain": "{'title': 'Astro 7886 A/C Compressor Clutch Installer/Remover Kit',\n 'category': ['Automotive',\n  'Replacement Parts',\n  'Transmission & Drive Train',\n  'Clutches & Parts'],\n 'description': [\"AST7886 Features: -Replaces clutches found on FS6, C171, 6P, and 148 compressors. -2 and 3 hole puller plate fits most clutches, mechanical force does the pulling. -Blow molded case for easy storage and transport. -A/C Compressor Clutch Installer/Remover Kit. Product Type: -Exhaust Shuttes. Generic Specifications: -GM R4 and A6, HR -6, DA -6 and V5 A/C compressors, Sanded compressors SD505, 507, 510, 708, and 709. Generic Dimensions: -Case 23''L x 10'' W x 2''H. Dimensions: Overall Height - Top to Bottom: -2.25 Inches. Overall Width - Side to Side: -8.25 Inches. Overall Depth - Front to Back: -9.25 Inches. Overall Product Weight: -3.11 Pounds.\",\n  'Symptoms of a bad compressor or compressor clutch include poor or no cooling, and a noisy or seized compressor.'],\n 'questions_answers': [['will it work on a 04 silverado 5.3l',\n   'Y',\n   ['I recieved, but never used it yet.',\n    \"I bought this tool set to take my auto AC compressor clutch off but when I went to use it I found I didn't need to take the clutch off after all.\",\n    'I did not have to move or remove the compressor',\n    \"At least on one compressor.The other compressor was a no-go as this kit didn't have the proper parts to pull the clutch.Quality and finish is acceptable, not great.\",\n    'Easy to use.',\n    'The installation of the clutchplate was a bit more difficult requiring several 1/2\" flatwashers for spacers as I pressed the clutch in place.The operation was a success.',\n    \"But this is such a nice set of tools in such a nice case I'm glad I have it for future use.\",\n    'Great tool kit to have.',\n    'The removal went wellwith the metric GM tool.',\n    'I used this tool kit on a 1990 GMC K3500 1 ton truck.In general the tool worked well.']],\n  ['will it work on 99 silverado v8',\n   'Y',\n   ['I recieved, but never used it yet.',\n    'Easy to use.',\n    'I did not have to move or remove the compressor',\n    \"At least on one compressor.The other compressor was a no-go as this kit didn't have the proper parts to pull the clutch.Quality and finish is acceptable, not great.\",\n    \"But this is such a nice set of tools in such a nice case I'm glad I have it for future use.\",\n    'Great tool kit to have.',\n    \"I bought this tool set to take my auto AC compressor clutch off but when I went to use it I found I didn't need to take the clutch off after all.\",\n    'It looked like it would work very well....',\n    'The removal went wellwith the metric GM tool.',\n    'The installation of the clutchplate was a bit more difficult requiring several 1/2\" flatwashers for spacers as I pressed the clutch in place.The operation was a success.']],\n  ['will this work on a 99 chevy S-10   2.2L motor',\n   'Y',\n   ['Easy to use.',\n    'I recieved, but never used it yet.',\n    'It looked like it would work very well....',\n    'I did not have to move or remove the compressor',\n    \"But this is such a nice set of tools in such a nice case I'm glad I have it for future use.\",\n    'Great tool kit to have.',\n    \"At least on one compressor.The other compressor was a no-go as this kit didn't have the proper parts to pull the clutch.Quality and finish is acceptable, not great.\",\n    'The removal went wellwith the metric GM tool.',\n    \"I bought this tool set to take my auto AC compressor clutch off but when I went to use it I found I didn't need to take the clutch off after all.\",\n    'The installation of the clutchplate was a bit more difficult requiring several 1/2\" flatwashers for spacers as I pressed the clutch in place.The operation was a success.']]]}"
     },
     "metadata": {},
     "execution_count": 4
    }
   ],
   "source": [
    "row = data[list(data.keys())[0]]\n",
    "row"
   ]
  },
  {
   "cell_type": "code",
   "execution_count": 5,
   "metadata": {},
   "outputs": [
    {
     "output_type": "execute_result",
     "data": {
      "text/plain": "'Astro 7886 A/C Compressor Clutch Installer/Remover Kit'"
     },
     "metadata": {},
     "execution_count": 5
    }
   ],
   "source": [
    "row['title']"
   ]
  },
  {
   "cell_type": "code",
   "execution_count": 6,
   "metadata": {},
   "outputs": [
    {
     "output_type": "execute_result",
     "data": {
      "text/plain": "['Automotive',\n 'Replacement Parts',\n 'Transmission & Drive Train',\n 'Clutches & Parts']"
     },
     "metadata": {},
     "execution_count": 6
    }
   ],
   "source": [
    "row['category']"
   ]
  },
  {
   "cell_type": "code",
   "execution_count": 7,
   "metadata": {},
   "outputs": [
    {
     "output_type": "execute_result",
     "data": {
      "text/plain": "[\"AST7886 Features: -Replaces clutches found on FS6, C171, 6P, and 148 compressors. -2 and 3 hole puller plate fits most clutches, mechanical force does the pulling. -Blow molded case for easy storage and transport. -A/C Compressor Clutch Installer/Remover Kit. Product Type: -Exhaust Shuttes. Generic Specifications: -GM R4 and A6, HR -6, DA -6 and V5 A/C compressors, Sanded compressors SD505, 507, 510, 708, and 709. Generic Dimensions: -Case 23''L x 10'' W x 2''H. Dimensions: Overall Height - Top to Bottom: -2.25 Inches. Overall Width - Side to Side: -8.25 Inches. Overall Depth - Front to Back: -9.25 Inches. Overall Product Weight: -3.11 Pounds.\",\n 'Symptoms of a bad compressor or compressor clutch include poor or no cooling, and a noisy or seized compressor.']"
     },
     "metadata": {},
     "execution_count": 7
    }
   ],
   "source": [
    "row['description']"
   ]
  },
  {
   "cell_type": "code",
   "execution_count": 8,
   "metadata": {},
   "outputs": [
    {
     "output_type": "execute_result",
     "data": {
      "text/plain": "[['will it work on a 04 silverado 5.3l',\n  'Y',\n  ['I recieved, but never used it yet.',\n   \"I bought this tool set to take my auto AC compressor clutch off but when I went to use it I found I didn't need to take the clutch off after all.\",\n   'I did not have to move or remove the compressor',\n   \"At least on one compressor.The other compressor was a no-go as this kit didn't have the proper parts to pull the clutch.Quality and finish is acceptable, not great.\",\n   'Easy to use.',\n   'The installation of the clutchplate was a bit more difficult requiring several 1/2\" flatwashers for spacers as I pressed the clutch in place.The operation was a success.',\n   \"But this is such a nice set of tools in such a nice case I'm glad I have it for future use.\",\n   'Great tool kit to have.',\n   'The removal went wellwith the metric GM tool.',\n   'I used this tool kit on a 1990 GMC K3500 1 ton truck.In general the tool worked well.']],\n ['will it work on 99 silverado v8',\n  'Y',\n  ['I recieved, but never used it yet.',\n   'Easy to use.',\n   'I did not have to move or remove the compressor',\n   \"At least on one compressor.The other compressor was a no-go as this kit didn't have the proper parts to pull the clutch.Quality and finish is acceptable, not great.\",\n   \"But this is such a nice set of tools in such a nice case I'm glad I have it for future use.\",\n   'Great tool kit to have.',\n   \"I bought this tool set to take my auto AC compressor clutch off but when I went to use it I found I didn't need to take the clutch off after all.\",\n   'It looked like it would work very well....',\n   'The removal went wellwith the metric GM tool.',\n   'The installation of the clutchplate was a bit more difficult requiring several 1/2\" flatwashers for spacers as I pressed the clutch in place.The operation was a success.']],\n ['will this work on a 99 chevy S-10   2.2L motor',\n  'Y',\n  ['Easy to use.',\n   'I recieved, but never used it yet.',\n   'It looked like it would work very well....',\n   'I did not have to move or remove the compressor',\n   \"But this is such a nice set of tools in such a nice case I'm glad I have it for future use.\",\n   'Great tool kit to have.',\n   \"At least on one compressor.The other compressor was a no-go as this kit didn't have the proper parts to pull the clutch.Quality and finish is acceptable, not great.\",\n   'The removal went wellwith the metric GM tool.',\n   \"I bought this tool set to take my auto AC compressor clutch off but when I went to use it I found I didn't need to take the clutch off after all.\",\n   'The installation of the clutchplate was a bit more difficult requiring several 1/2\" flatwashers for spacers as I pressed the clutch in place.The operation was a success.']]]"
     },
     "metadata": {},
     "execution_count": 8
    }
   ],
   "source": [
    "row['questions_answers']"
   ]
  },
  {
   "cell_type": "code",
   "execution_count": 9,
   "metadata": {},
   "outputs": [
    {
     "output_type": "execute_result",
     "data": {
      "text/plain": "['will it work on a 04 silverado 5.3l',\n 'Y',\n ['I recieved, but never used it yet.',\n  \"I bought this tool set to take my auto AC compressor clutch off but when I went to use it I found I didn't need to take the clutch off after all.\",\n  'I did not have to move or remove the compressor',\n  \"At least on one compressor.The other compressor was a no-go as this kit didn't have the proper parts to pull the clutch.Quality and finish is acceptable, not great.\",\n  'Easy to use.',\n  'The installation of the clutchplate was a bit more difficult requiring several 1/2\" flatwashers for spacers as I pressed the clutch in place.The operation was a success.',\n  \"But this is such a nice set of tools in such a nice case I'm glad I have it for future use.\",\n  'Great tool kit to have.',\n  'The removal went wellwith the metric GM tool.',\n  'I used this tool kit on a 1990 GMC K3500 1 ton truck.In general the tool worked well.']]"
     },
     "metadata": {},
     "execution_count": 9
    }
   ],
   "source": [
    "row['questions_answers'][0]"
   ]
  },
  {
   "cell_type": "code",
   "execution_count": 20,
   "metadata": {},
   "outputs": [
    {
     "output_type": "execute_result",
     "data": {
      "text/plain": "'will it work on a 04 silverado 5.3l'"
     },
     "metadata": {},
     "execution_count": 20
    }
   ],
   "source": [
    "row['questions_answers'][0][0] # question"
   ]
  },
  {
   "cell_type": "code",
   "execution_count": 21,
   "metadata": {},
   "outputs": [
    {
     "output_type": "execute_result",
     "data": {
      "text/plain": "'Y'"
     },
     "metadata": {},
     "execution_count": 21
    }
   ],
   "source": [
    "row['questions_answers'][0][1] # label"
   ]
  },
  {
   "cell_type": "code",
   "execution_count": 22,
   "metadata": {},
   "outputs": [
    {
     "output_type": "execute_result",
     "data": {
      "text/plain": "['I recieved, but never used it yet.',\n \"I bought this tool set to take my auto AC compressor clutch off but when I went to use it I found I didn't need to take the clutch off after all.\",\n 'I did not have to move or remove the compressor',\n \"At least on one compressor.The other compressor was a no-go as this kit didn't have the proper parts to pull the clutch.Quality and finish is acceptable, not great.\",\n 'Easy to use.',\n 'The installation of the clutchplate was a bit more difficult requiring several 1/2\" flatwashers for spacers as I pressed the clutch in place.The operation was a success.',\n \"But this is such a nice set of tools in such a nice case I'm glad I have it for future use.\",\n 'Great tool kit to have.',\n 'The removal went wellwith the metric GM tool.',\n 'I used this tool kit on a 1990 GMC K3500 1 ton truck.In general the tool worked well.']"
     },
     "metadata": {},
     "execution_count": 22
    }
   ],
   "source": [
    "row['questions_answers'][0][2] # reviews"
   ]
  },
  {
   "cell_type": "code",
   "execution_count": 10,
   "metadata": {},
   "outputs": [
    {
     "output_type": "execute_result",
     "data": {
      "text/plain": "10"
     },
     "metadata": {},
     "execution_count": 10
    }
   ],
   "source": [
    "len(row['questions_answers'][0][2])"
   ]
  },
  {
   "cell_type": "code",
   "execution_count": 12,
   "metadata": {},
   "outputs": [],
   "source": [
    "X = []\n",
    "y = []"
   ]
  },
  {
   "cell_type": "code",
   "execution_count": 13,
   "metadata": {
    "tags": []
   },
   "outputs": [
    {
     "output_type": "stream",
     "name": "stderr",
     "text": "3%|▎         | 73/2599 [00:00<00:20, 126.11it/s]{'title': 'Yuasa YUAM22H30 YB30L-B Battery', 'category': ['Automotive', 'Motorcycle & Powersports', 'Parts', 'Electrical', 'Batteries'], 'description': ['IMPORTANT: You Must Add Battery Acid (NOT INCLUDED) and Charge Before Installation12-Volt Dry Batteries for More Recent ApplicationsDelivers Up to 30% More Power (Cranking Amps) Than Standard Batteries Due to Extra Plates Inside BatteryMay Need Periodic Refilling1-Year Manufacturers WarrantyFits the Following Arctic Cat Models:PROWLER 1000 2010-2011Fits the Following Harley Davidson Models:FLH 1997-1999FLT 1997-1999Fits the Following Polaris Models:DIESEL 1999-2003 (Primary)RANGER 425 2x4 2002-2003RANGER 500 4x4 1998-2004RANGER 500 6x6 1998-2004RANGER 800 2010-2011SPORTSMAN 600 2004-2005SPORTSMAN 700 2002-2008 (Military)Please Note: The Image Displayed Is Representative of the Item, but Shows Multiple Styles. You Will Only Receive a Single Battery in the Style Described, Despite Image Shown'], 'questions_answers': [['This appears to be the same battery as mine YB30L-B but the dimensions  in the add do not match up with mine, can you verify what  the LxWxH is', 'Y', ['I expect to get many years of use.', 'we would order this again if we needed it but now we have enough this is a great product and i recommend it to all', 'After filling with two bottles of acid ($20) and charging at 2 amps as recommended, it started the Ranger without  a problem.', 'just like what we would have found in a store except CHEAPER - works just fine - and we are happy', 'BUYER BEWARE ITS NOT WORTH BUYING THIS BATTERY , YOU MAY SAVE A LITTLE MONEY BUT THEN YOU HAVE TO GO BUY ACID FOR IT SO YOU REALLY DONT SAVE A DIME, PLUS YOU HAVE TO DRIVE SOMEWHERE TO GET THE ACID, JUST GO TO YOUR LOCAL BIKE SHOP ,', 'my polaris 700 sportsman came stock with yuasa battery.....why buy some battery i never heard of,,,to save a few $$$$$.....battery came dry,,,buy 2 small sulfuric acid from local auto store five bucks each....wait half hour for bubbles to stop...fully charged......you dont need to charge it.....', 'Battery is just like the one that came in my Polaris Ranger.', 'Battery discription did not clearly state that it did not come ready for installation - no acid or acid gel included.']]]}\n 49%|████▉     | 1282/2599 [00:11<00:10, 123.75it/s]{'title': 'Foss Manufacturing Automotive Heat, Sound and Noise Insulation Padding Thermozite', 'category': '', 'description': ['Our automotive heat, sound and noise barrier is a thermal and acoustic insulation that can be used for many vehicle applications. Made from coarse denier nonwoven polyester fiber and not reclaimed cotton fibers as many other auto sound insulation products are made. It has a laminated scrim reinforced foil on one side and carpet padding exposed on the other side. The tough aluminum foil provides a radiant heat shield which can increase R Value (Thermal Resistance) up to a factor of four, depending on the distance from the heat source. Specifications: * Dimension: 3\\' Long by 4\\' Wide. Change quantity in shopping cart for longer continuous lengths. * Thickness: .35\" Inch Thick * Weight: 29.5 Ounces per square yard * Foil: .0005\" Aluminum foil on one side with scrim * Fiber: Coarse Denier Nonwoven Polyester * Thermal Conductivity (K): .280 @ 75 degrees F * Thermal Resistance (R): 1.3 * Noise Reduction Co-efficient (Hz): 0.3 * Passes Federal Motor Vehicle Safety Standard 302'], 'questions_answers': [['can i use this for soundproofing my vocal booth? i want to cancel the noise', 'Y', ['Love this stuff.', 'Easy to cut and install (used double-sided duct tape).', 'This stuff is exactly as advertised, so if you are comfortable with the price, it works just fine for me.', 'This stuff is way too expensive for simple foil-backed carpet padding.', 'This product was exactly what I was looking for, I used it to pad the walls of my engine compartment in my sailboat.', 'went on without a problem and really facilitates taking a nap with the engine on -&#62; much quieter.', \"I used this to insulate a cabinet that houses my travel trailer's water pump.\", \"Don't let the fancy words in the product description fool you.\", 'my 84 Hurst/Olds has very loud exhaust....helped somewhat to reduce noise...may would have done better IF console had been removed']], ['is it fireproof and mold resistant? considering for a small marine engine compartment', 'Y', ['Love this stuff.', 'This stuff is way too expensive for simple foil-backed carpet padding.', 'This stuff is exactly as advertised, so if you are comfortable with the price, it works just fine for me.', \"Don't let the fancy words in the product description fool you.\", \"I used this to insulate a cabinet that houses my travel trailer's water pump.\", 'Easy to cut and install (used double-sided duct tape).', 'This product was exactly what I was looking for, I used it to pad the walls of my engine compartment in my sailboat.', 'my 84 Hurst/Olds has very loud exhaust....helped somewhat to reduce noise...may would have done better IF console had been removed', 'went on without a problem and really facilitates taking a nap with the engine on -&#62; much quieter.']]]}\n 50%|█████     | 1309/2599 [00:11<00:10, 119.82it/s]{'title': 'Classy Autos H11 LED Bulbs ULTRA BLUE 68 SMD DRL Fog Light Headlight (A Pair)', 'category': ['Automotive', 'Lights & Lighting Accessories', 'Bulbs'], 'description': ['*These bulbs are used to match your HIDs (Xenon). \\n\\nBULB SIZE / CROSS REFERENCE:\\nH8, H9, H11\\n     \\nAPPLICATION:\\nPerfect for Daytime Running Light, Fog light and Driving light.        \\nSince the nature of the item being offered might fit a large  variety of different vehicle and function.   Please make sure this is the correct application type of bulb before placing order.\\n\\nIf the LED does not light up, simply flip it 180 degrees  (reverse the polarity)\\n    \\nNote: For newer model EUROPEAN vehicles, as well as vehicles  with CANBUS monitoring systems, please research your particular vehicle before  buying LEDs.  You may need to purchase  from our line of ERROR-FREE CANBUS LEDs to ensure that your vehicle does not  give you an error message after installation.'], 'questions_answers': [['would this fit a 2001 chevy monte carlo ss', 'Y', ['I do like the bulbs a lot and they are what I was looking for.', 'Exactly as advertised.', 'so i dont think they will like any bulb with a blue color to it.', 'i replaced my day time, high beam bulbs 9005 nice color n.j. police do not like them.got a warning .', 'If you want blue and bright these are the way to go, keep in mind the blue part b/c these are very blue!', 'The lights are very blue, not sure how much they are going to light up a dark twisty road, but thats what highbeams are for.for the intended purpose, I dont think I could have picked a better light, the car looks super cool, and the install was a piece of cake.its like duck dynasty right now, happy happy.', 'Car looks light a fighter jet now!!', 'in IL you need to use amber or white colored fog lights, which i had no idea there was a law for fog light colors', 'I would recommend these fog lights for anyone who is looking to add some color to their car.']]]}\n 57%|█████▋    | 1470/2599 [00:13<00:10, 109.98it/s]{'title': 'Heatshield Products 110614 Inferno Shield 6\" x 14\" Aluminum Heat Shield', 'category': ['Automotive', 'Motorcycle & Powersports', 'Parts', 'Exhaust', 'Heat Shields'], 'description': ['More than just another heat shield, Inferno Shields can be custom configured to handle whatever your thermal requirements are. These heat shields can be bent, folded and twisted to form a custom shape. Their heat shields come in three different grades of alloy: Aluminum (900F continuous), Stainless steel (1800F continuous) and Inconel (2200F continuous). All of these alloy heat shields have an inner ceramic pad that can be trimmed, then fold over outer alloy layer for a custom size or fit. Larger and custom heat shields available with volume purchase. All of these heat shields may be fastened with Thermal-Tie, safety wire, screws, or rivets.'], 'questions_answers': [['I need something to replace the shielding that attaches to the inner fender and closes off my engine compartment from my wheel well. can this be used?', 'Y', ['Easy to mody and make a factory looking install.', \"My Cat didn't get hot enough to pass the test.\", \"I haven't installed it yet, but it is well made and thicker tun expected; which is a good thing for a heat shield\", 'It stops the heat from the muffler from missing up my abs brake box and is easy to install saved me a lot money.', 'Great stuff, used to wrapped my Catalytic converter.', 'After I removed it, ran the car for awhile for the 2nd test, it passed.', 'Used the product to make a custom heat shield for a brake fluid container and other plastic parts.', 'But watch out, it might cool too well, I think I failed my Hydrocarbons Cali SMOG test with the Inferno Shield on.', 'I would have gave it another star if the max temp was painted on mine, but it was missing...fully functional regardless.Great for protecting your performance automotive stuff!']], ['can thisproduct be used as a heat insulater  attached under the hood of my car to replace the worn one as a heat shield?', 'Y', ['Easy to mody and make a factory looking install.', \"My Cat didn't get hot enough to pass the test.\", \"I haven't installed it yet, but it is well made and thicker tun expected; which is a good thing for a heat shield\", 'It stops the heat from the muffler from missing up my abs brake box and is easy to install saved me a lot money.', 'Great stuff, used to wrapped my Catalytic converter.', 'After I removed it, ran the car for awhile for the 2nd test, it passed.', 'I would have gave it another star if the max temp was painted on mine, but it was missing...fully functional regardless.Great for protecting your performance automotive stuff!', 'But watch out, it might cool too well, I think I failed my Hydrocarbons Cali SMOG test with the Inferno Shield on.', 'Used the product to make a custom heat shield for a brake fluid container and other plastic parts.']]]}\n 75%|███████▍  | 1941/2599 [00:17<00:05, 112.95it/s]{'title': 'NEW IGNITION COIL SET (6) 2000 2001 2002 2003 JAGUAR S-TYPE V6 3.0L FD496 GDG517', 'category': ['Automotive', 'Replacement Parts', 'Ignition Parts', 'Coils'], 'description': ['You are purchasing a Set of 6 Brand New ADP Ignition Coils.                        \\n\\n\\nADP ignition coils offer value without compromising quality .                         \\n\\n<>\\nHilights include:                                  \\n\\n \\n Help ensure proper engine performance, maximize fuel economy, minimize both tailpipe emissions and RFI electronic interference                    \\n\\n<>\\nHelps avoid spark plug failure, drivability complaints, pre-ignition and detonation                                          \\n\\n<>\\nFIT THE FOLLOWING VEHICLES :          \\n\\n2000 LINCOLN LS V6 3.0L 182cid GAS FI N Engine VIN = S                            \\n<>\\n2001 LINCOLN LS V6 3.0L 182cid GAS FI N Engine VIN = S                            \\n<>\\n2002 LINCOLN LS V6 3.0L 182cid GAS FI N Engine VIN = S                            \\n<>\\n2003 LINCOLN LS V6 3.0L 182cid GAS FI N Engine VIN = S                            \\n<>\\n2004 LINCOLN LS V6 3.0L 182cid GAS FI N Engine VIN = S                            \\n<>\\n2005 LINCOLN LS V6 3.0L 182cid GAS FI N Engine VIN = S                            \\n<>\\n2002 JAGUAR S-TYPE V6 3.0L 183cid GAS FI N Engine VIN = F                     \\n<>\\n2001 JAGUAR S-TYPE V6 3.0L 183cid GAS FI N Engine VIN = F                     \\n<>\\n2000 JAGUAR S-TYPE V6 3.0L 183cid GAS FI N Engine VIN = F'], 'questions_answers': [['will these coils fit jaguar xtype 2003', 'Y', ['thanks', 'am saving the set,it costed less by buying the set than buying it single.', 'the price was just right.', \"these are about 8 times the price at the stealership.... and Lincoln LS's and Jags burn these things up every couple of years.....  so this product is a major money saver if you are a little mechanically inclinedactually looks better made than OEM... good buy\", 'great coils at a fair price auto parts store sell you the same product a double the cost great product.', 'The item was delivered to me on time.I took it to the garage and replaced the ignition coil in the car with the new ones i bought from amazon.The car accelerates better and also save gas.The ignition coil is worth the money.', 'This is a complete set for a greatb price , its better to replace the complete set because its a hard job to get in there so I recomend these my car feels great.', 'this set of ignition coils are not even for a jaguar 2003 stype v6 3.o.. the harness where it connects has a 2 piece plug.. the 2003 jaguar s type v6 3.o has  a 3 piece on the connector']]]}\n 87%|████████▋ | 2266/2599 [00:20<00:03, 83.56it/s]{'title': 'Genuine Toyota Accessories PT347-34070 Cargo Net for Select Tundra Models', 'category': ['Automotive', 'Exterior Accessories', 'Truck Bed & Tailgate Accessories', 'Cargo Nets'], 'description': ['Genuine Toyota Tundra Cargo Net PT347-34070. Envelope Style. 2007-2016 Tundra.'], 'questions_answers': [['will this fit the bed of a 2013 tundra?', 'Y', ['It is easy to use and perfect for keeping things together in the back.', 'It keeps everything contained - simplifying travel and keeping the truck clean.', \"I hope that's enough words to please the word police\", 'Looks to be well made.', \"I use this for random sports equipment, camping gear and anything that the kids want to bring on a trip that doesn't need to be inside the cab.\", \"Not as stretchy as I would have wanted as a majority is a fixed nylon cord and doesn't envelope items like I would want\", \"This thing will hold everything right in place and just in reach so you don't have to crawl up in the bed every time.\", 'We love this Tundra Cargo Net.', \"Fits the truck like it was made for it.. oh.. it was... hope to have it around for a long time so I don't have to buy any more in the future..\"]]]}\n100%|██████████| 2599/2599 [00:24<00:00, 105.90it/s]\n"
    }
   ],
   "source": [
    "df = po.DataFrame()\n",
    "for j, key in enumerate(tqdm(data, total=len(data))):\n",
    "    row = data[key]\n",
    "\n",
    "    try:\n",
    "        meta = ' '.join([row['title'], ' '.join(row['category']), ' '.join(row['description'])])\n",
    "\n",
    "        for i in range(len(row['questions_answers'])):\n",
    "            df_row = {}\n",
    "            \n",
    "            df_row['meta'] = meta\n",
    "            \n",
    "            ques = row['questions_answers'][i][0]\n",
    "            #df_row['question'] = ques\n",
    "            \n",
    "            assert len(row['questions_answers'][i][2]) == 10\n",
    "\n",
    "            for j in range(len(row['questions_answers'][i][2])):\n",
    "                df_row['review_{}'.format(j)] = row['questions_answers'][i][2][j]\n",
    "\n",
    "            #reviews = ' '.join(row['questions_answers'][i][2])\n",
    "            #print(type(reviews))\n",
    "            #df_row['review'] = reviews\n",
    "\n",
    "            df_row['ques'] = ques#' '.join([ques, reviews])\n",
    "            #print(' '.join([ques, reviews]))\n",
    "            #print(type(ques))\n",
    "            #print(df_row['text'])\n",
    "\n",
    "            target = row['questions_answers'][i][1]\n",
    "            if target == 'Y':\n",
    "                df_row['target'] = 1 \n",
    "            elif target == 'N':\n",
    "                df_row['target'] = 0\n",
    "            else:\n",
    "                raise ValueError\n",
    "\n",
    "            #print(df_row['text'])\n",
    "\n",
    "            df = df.append(df_row, ignore_index=True)\n",
    "                \n",
    "            '''\n",
    "            for ans in row['questions_answers'][0][2]:\n",
    "                df_row = {}\n",
    "                df_row['meta'] = meta\n",
    "                df_row['question'] = ques\n",
    "                df_row['review'] = ans\n",
    "                \n",
    "                df = df.append(df_row, ignore_index=True)\n",
    "            '''\n",
    "\n",
    "    except:\n",
    "        print(row)\n",
    "        continue"
   ]
  },
  {
   "cell_type": "code",
   "execution_count": 14,
   "metadata": {},
   "outputs": [
    {
     "output_type": "execute_result",
     "data": {
      "text/plain": "                                                   meta  \\\n0     Astro 7886 A/C Compressor Clutch Installer/Rem...   \n1     Astro 7886 A/C Compressor Clutch Installer/Rem...   \n2     Astro 7886 A/C Compressor Clutch Installer/Rem...   \n3     Plasticolor Easy Fit Mud Guard 9\" - Set of 2 A...   \n4     Meguiar's M2 Mirror Glaze Fine-Cut Cleaner - 1...   \n...                                                 ...   \n4883  Wipe New Trim Restorer Automotive Car Care Int...   \n4884  Wipe New Trim Restorer Automotive Car Care Int...   \n4885  Autel MaxiScan MS300 CAN Diagnostic Scan Tool ...   \n4886  Autel MaxiScan MS300 CAN Diagnostic Scan Tool ...   \n4887  Autel MaxiScan MS300 CAN Diagnostic Scan Tool ...   \n\n                                                   ques  \\\n0                   will it work on a 04 silverado 5.3l   \n1                       will it work on 99 silverado v8   \n2        will this work on a 99 chevy S-10   2.2L motor   \n3              will they fit  a 2014 lincoln navigator?   \n4     Can I use this instead of a clay bar for the c...   \n...                                                 ...   \n4883                         does it work on headlights   \n4884             can you use it on jeepwrangler fenders   \n4885       will it read a 2009 chevy Impala fuel system   \n4886              will this work on a 2006 nissan tiida   \n4887                       will it work on 2001 subaru?   \n\n                                               review_0  \\\n0                    I recieved, but never used it yet.   \n1                    I recieved, but never used it yet.   \n2                                          Easy to use.   \n3                                   these ARE mudflaps.   \n4                                                     !   \n...                                                 ...   \n4883  I wash my truck almost every weekend and the t...   \n4884  it is easy and effortless to use for anyone i ...   \n4885                    I love how easy this is to use.   \n4886                             it just does NOT work!   \n4887                         The device is hard to use.   \n\n                                               review_1  \\\n0     I bought this tool set to take my auto AC comp...   \n1                                          Easy to use.   \n2                    I recieved, but never used it yet.   \n3                                      Easy to install.   \n4                                        Great product!   \n...                                                 ...   \n4883  Their production costs probably run about 50% ...   \n4884  I have never seen so many bad reviews on any p...   \n4885                          It is so easy to operate.   \n4886                Department is totally unresponsive.   \n4887                                     Very annoying.   \n\n                                               review_2  \\\n0       I did not have to move or remove the compressor   \n1       I did not have to move or remove the compressor   \n2            It looked like it would work very well....   \n3     Easy to install and came with the self tapping...   \n4                                 This isn't DIY stuff.   \n...                                                 ...   \n4883  He told me I could get it at Bed Bath & Beyond...   \n4884                                  Plain and simple.   \n4885  The instructions were very clear and easy to u...   \n4886                              what a waste of time.   \n4887  The forums say that many scanners including th...   \n\n                                               review_3  \\\n0     At least on one compressor.The other compresso...   \n1     At least on one compressor.The other compresso...   \n2       I did not have to move or remove the compressor   \n3     Have used many mud flaps over the years and th...   \n4     Been using this product for years with my guit...   \n...                                                 ...   \n4883  I then let it dry for 24 hours and parked it i...   \n4884  I contacted Wipe New and they were so sassy wi...   \n4885                            Simple and easy to use.   \n4886  And then it splashed back down to the pit of m...   \n4887  Don't listen to the manual, which tells you to...   \n\n                                               review_4  \\\n0                                          Easy to use.   \n1     But this is such a nice set of tools in such a...   \n2     But this is such a nice set of tools in such a...   \n3                                    Reasonably priced.   \n4                 This product worked very well for me.   \n...                                                 ...   \n4883  This is a great product but I ordered this 2 w...   \n4884  I've never used any other similar product and ...   \n4885                                   very easy to use   \n4886                              It never even worked.   \n4887  As a motorcyclist I am regularly wrenching on ...   \n\n                                               review_5  \\\n0     The installation of the clutchplate was a bit ...   \n1                               Great tool kit to have.   \n2                               Great tool kit to have.   \n3     Extremely durable, easy to install and good lo...   \n4                                      Fish eye galore!   \n...                                                 ...   \n4883  i worked on everything previously listed for a...   \n4884  The usual Armor-All and other trim products di...   \n4885                            It is very easy to use.   \n4886  Scrolled though the scanner and never found a ...   \n4887  I read all the negative reviews and thought il...   \n\n                                               review_6  \\\n0     But this is such a nice set of tools in such a...   \n1     I bought this tool set to take my auto AC comp...   \n2     At least on one compressor.The other compresso...   \n3     easy to install nice and long keeps the mud  f...   \n4     What makes it great is that there is no silicone.   \n...                                                 ...   \n4883  Sure, it's $20 bucks for a little bottle, but ...   \n4884  The bottle is indeed small, and you feel insta...   \n4885    It worked flawlessly and was simple to operate.   \n4886                            What a waste of time...   \n4887                Department is totally unresponsive.   \n\n                                               review_7  \\\n0                               Great tool kit to have.   \n1            It looked like it would work very well....   \n2         The removal went wellwith the metric GM tool.   \n3     I bought these after a cheaper Highland set ma...   \n4                      I didn't even know it was dirty.   \n...                                                 ...   \n4883  Seen it in the store after I had already order...   \n4884                          Nothing good comes cheap.   \n4885              Instructions are also easy to follow.   \n4886                   No sense in keeping junk around.   \n4887  So much pontental, so little performance, so m...   \n\n                                               review_8  \\\n0         The removal went wellwith the metric GM tool.   \n1         The removal went wellwith the metric GM tool.   \n2     I bought this tool set to take my auto AC comp...   \n3     If you're mounting them with a drop of more th...   \n4     Not a very aggressive compound but more of a f...   \n...                                                 ...   \n4883  After reading several dozen negative reviews, ...   \n4884                               Big waste of money!!   \n4885  Followed the directions step by step and found...   \n4886                               Totally ineffective.   \n4887                            Felt pretty frustrated.   \n\n                                               review_9  target  \n0     I used this tool kit on a 1990 GMC K3500 1 ton...     1.0  \n1     The installation of the clutchplate was a bit ...     1.0  \n2     The installation of the clutchplate was a bit ...     1.0  \n3                        These are an excellent choice.     1.0  \n4           He recommended this product, so I tried it.     1.0  \n...                                                 ...     ...  \n4883  Our company used up 5 bottles to restore 5-7 y...     1.0  \n4884         This product is a complete waste of money.     1.0  \n4885                Easy to use and easy to understand.     1.0  \n4886  So much pontental, so little performance, so m...     1.0  \n4887  I have read a lot of the reviews here before I...     1.0  \n\n[4888 rows x 13 columns]",
      "text/html": "<div>\n<style scoped>\n    .dataframe tbody tr th:only-of-type {\n        vertical-align: middle;\n    }\n\n    .dataframe tbody tr th {\n        vertical-align: top;\n    }\n\n    .dataframe thead th {\n        text-align: right;\n    }\n</style>\n<table border=\"1\" class=\"dataframe\">\n  <thead>\n    <tr style=\"text-align: right;\">\n      <th></th>\n      <th>meta</th>\n      <th>ques</th>\n      <th>review_0</th>\n      <th>review_1</th>\n      <th>review_2</th>\n      <th>review_3</th>\n      <th>review_4</th>\n      <th>review_5</th>\n      <th>review_6</th>\n      <th>review_7</th>\n      <th>review_8</th>\n      <th>review_9</th>\n      <th>target</th>\n    </tr>\n  </thead>\n  <tbody>\n    <tr>\n      <th>0</th>\n      <td>Astro 7886 A/C Compressor Clutch Installer/Rem...</td>\n      <td>will it work on a 04 silverado 5.3l</td>\n      <td>I recieved, but never used it yet.</td>\n      <td>I bought this tool set to take my auto AC comp...</td>\n      <td>I did not have to move or remove the compressor</td>\n      <td>At least on one compressor.The other compresso...</td>\n      <td>Easy to use.</td>\n      <td>The installation of the clutchplate was a bit ...</td>\n      <td>But this is such a nice set of tools in such a...</td>\n      <td>Great tool kit to have.</td>\n      <td>The removal went wellwith the metric GM tool.</td>\n      <td>I used this tool kit on a 1990 GMC K3500 1 ton...</td>\n      <td>1.0</td>\n    </tr>\n    <tr>\n      <th>1</th>\n      <td>Astro 7886 A/C Compressor Clutch Installer/Rem...</td>\n      <td>will it work on 99 silverado v8</td>\n      <td>I recieved, but never used it yet.</td>\n      <td>Easy to use.</td>\n      <td>I did not have to move or remove the compressor</td>\n      <td>At least on one compressor.The other compresso...</td>\n      <td>But this is such a nice set of tools in such a...</td>\n      <td>Great tool kit to have.</td>\n      <td>I bought this tool set to take my auto AC comp...</td>\n      <td>It looked like it would work very well....</td>\n      <td>The removal went wellwith the metric GM tool.</td>\n      <td>The installation of the clutchplate was a bit ...</td>\n      <td>1.0</td>\n    </tr>\n    <tr>\n      <th>2</th>\n      <td>Astro 7886 A/C Compressor Clutch Installer/Rem...</td>\n      <td>will this work on a 99 chevy S-10   2.2L motor</td>\n      <td>Easy to use.</td>\n      <td>I recieved, but never used it yet.</td>\n      <td>It looked like it would work very well....</td>\n      <td>I did not have to move or remove the compressor</td>\n      <td>But this is such a nice set of tools in such a...</td>\n      <td>Great tool kit to have.</td>\n      <td>At least on one compressor.The other compresso...</td>\n      <td>The removal went wellwith the metric GM tool.</td>\n      <td>I bought this tool set to take my auto AC comp...</td>\n      <td>The installation of the clutchplate was a bit ...</td>\n      <td>1.0</td>\n    </tr>\n    <tr>\n      <th>3</th>\n      <td>Plasticolor Easy Fit Mud Guard 9\" - Set of 2 A...</td>\n      <td>will they fit  a 2014 lincoln navigator?</td>\n      <td>these ARE mudflaps.</td>\n      <td>Easy to install.</td>\n      <td>Easy to install and came with the self tapping...</td>\n      <td>Have used many mud flaps over the years and th...</td>\n      <td>Reasonably priced.</td>\n      <td>Extremely durable, easy to install and good lo...</td>\n      <td>easy to install nice and long keeps the mud  f...</td>\n      <td>I bought these after a cheaper Highland set ma...</td>\n      <td>If you're mounting them with a drop of more th...</td>\n      <td>These are an excellent choice.</td>\n      <td>1.0</td>\n    </tr>\n    <tr>\n      <th>4</th>\n      <td>Meguiar's M2 Mirror Glaze Fine-Cut Cleaner - 1...</td>\n      <td>Can I use this instead of a clay bar for the c...</td>\n      <td>!</td>\n      <td>Great product!</td>\n      <td>This isn't DIY stuff.</td>\n      <td>Been using this product for years with my guit...</td>\n      <td>This product worked very well for me.</td>\n      <td>Fish eye galore!</td>\n      <td>What makes it great is that there is no silicone.</td>\n      <td>I didn't even know it was dirty.</td>\n      <td>Not a very aggressive compound but more of a f...</td>\n      <td>He recommended this product, so I tried it.</td>\n      <td>1.0</td>\n    </tr>\n    <tr>\n      <th>...</th>\n      <td>...</td>\n      <td>...</td>\n      <td>...</td>\n      <td>...</td>\n      <td>...</td>\n      <td>...</td>\n      <td>...</td>\n      <td>...</td>\n      <td>...</td>\n      <td>...</td>\n      <td>...</td>\n      <td>...</td>\n      <td>...</td>\n    </tr>\n    <tr>\n      <th>4883</th>\n      <td>Wipe New Trim Restorer Automotive Car Care Int...</td>\n      <td>does it work on headlights</td>\n      <td>I wash my truck almost every weekend and the t...</td>\n      <td>Their production costs probably run about 50% ...</td>\n      <td>He told me I could get it at Bed Bath &amp; Beyond...</td>\n      <td>I then let it dry for 24 hours and parked it i...</td>\n      <td>This is a great product but I ordered this 2 w...</td>\n      <td>i worked on everything previously listed for a...</td>\n      <td>Sure, it's $20 bucks for a little bottle, but ...</td>\n      <td>Seen it in the store after I had already order...</td>\n      <td>After reading several dozen negative reviews, ...</td>\n      <td>Our company used up 5 bottles to restore 5-7 y...</td>\n      <td>1.0</td>\n    </tr>\n    <tr>\n      <th>4884</th>\n      <td>Wipe New Trim Restorer Automotive Car Care Int...</td>\n      <td>can you use it on jeepwrangler fenders</td>\n      <td>it is easy and effortless to use for anyone i ...</td>\n      <td>I have never seen so many bad reviews on any p...</td>\n      <td>Plain and simple.</td>\n      <td>I contacted Wipe New and they were so sassy wi...</td>\n      <td>I've never used any other similar product and ...</td>\n      <td>The usual Armor-All and other trim products di...</td>\n      <td>The bottle is indeed small, and you feel insta...</td>\n      <td>Nothing good comes cheap.</td>\n      <td>Big waste of money!!</td>\n      <td>This product is a complete waste of money.</td>\n      <td>1.0</td>\n    </tr>\n    <tr>\n      <th>4885</th>\n      <td>Autel MaxiScan MS300 CAN Diagnostic Scan Tool ...</td>\n      <td>will it read a 2009 chevy Impala fuel system</td>\n      <td>I love how easy this is to use.</td>\n      <td>It is so easy to operate.</td>\n      <td>The instructions were very clear and easy to u...</td>\n      <td>Simple and easy to use.</td>\n      <td>very easy to use</td>\n      <td>It is very easy to use.</td>\n      <td>It worked flawlessly and was simple to operate.</td>\n      <td>Instructions are also easy to follow.</td>\n      <td>Followed the directions step by step and found...</td>\n      <td>Easy to use and easy to understand.</td>\n      <td>1.0</td>\n    </tr>\n    <tr>\n      <th>4886</th>\n      <td>Autel MaxiScan MS300 CAN Diagnostic Scan Tool ...</td>\n      <td>will this work on a 2006 nissan tiida</td>\n      <td>it just does NOT work!</td>\n      <td>Department is totally unresponsive.</td>\n      <td>what a waste of time.</td>\n      <td>And then it splashed back down to the pit of m...</td>\n      <td>It never even worked.</td>\n      <td>Scrolled though the scanner and never found a ...</td>\n      <td>What a waste of time...</td>\n      <td>No sense in keeping junk around.</td>\n      <td>Totally ineffective.</td>\n      <td>So much pontental, so little performance, so m...</td>\n      <td>1.0</td>\n    </tr>\n    <tr>\n      <th>4887</th>\n      <td>Autel MaxiScan MS300 CAN Diagnostic Scan Tool ...</td>\n      <td>will it work on 2001 subaru?</td>\n      <td>The device is hard to use.</td>\n      <td>Very annoying.</td>\n      <td>The forums say that many scanners including th...</td>\n      <td>Don't listen to the manual, which tells you to...</td>\n      <td>As a motorcyclist I am regularly wrenching on ...</td>\n      <td>I read all the negative reviews and thought il...</td>\n      <td>Department is totally unresponsive.</td>\n      <td>So much pontental, so little performance, so m...</td>\n      <td>Felt pretty frustrated.</td>\n      <td>I have read a lot of the reviews here before I...</td>\n      <td>1.0</td>\n    </tr>\n  </tbody>\n</table>\n<p>4888 rows × 13 columns</p>\n</div>"
     },
     "metadata": {},
     "execution_count": 14
    }
   ],
   "source": [
    "df"
   ]
  },
  {
   "cell_type": "code",
   "execution_count": 15,
   "metadata": {},
   "outputs": [
    {
     "output_type": "execute_result",
     "data": {
      "text/plain": "1.0    3825\n0.0    1063\nName: target, dtype: int64"
     },
     "metadata": {},
     "execution_count": 15
    }
   ],
   "source": [
    "df['target'].value_counts()"
   ]
  },
  {
   "cell_type": "code",
   "execution_count": 16,
   "metadata": {},
   "outputs": [],
   "source": [
    "df.to_csv('data/Auto_meta_qar_clip_rescale.csv', index=False)"
   ]
  },
  {
   "cell_type": "code",
   "execution_count": 18,
   "metadata": {},
   "outputs": [],
   "source": [
    "df['len_ques'] = df['ques'].apply(lambda x: len(x.split(' ')))"
   ]
  },
  {
   "cell_type": "code",
   "execution_count": 20,
   "metadata": {},
   "outputs": [
    {
     "output_type": "execute_result",
     "data": {
      "text/plain": "11.296235679214403"
     },
     "metadata": {},
     "execution_count": 20
    }
   ],
   "source": [
    "df['len_ques'].mean()"
   ]
  },
  {
   "cell_type": "code",
   "execution_count": 21,
   "metadata": {},
   "outputs": [
    {
     "output_type": "execute_result",
     "data": {
      "text/plain": "6.621224047373118"
     },
     "metadata": {},
     "execution_count": 21
    }
   ],
   "source": [
    "df['len_ques'].std()"
   ]
  },
  {
   "cell_type": "code",
   "execution_count": 22,
   "metadata": {},
   "outputs": [],
   "source": [
    "df['len_review'] = df['review_1'].apply(lambda x: len(x.split(' ')))"
   ]
  },
  {
   "cell_type": "code",
   "execution_count": 23,
   "metadata": {},
   "outputs": [
    {
     "output_type": "execute_result",
     "data": {
      "text/plain": "12.174099836333879"
     },
     "metadata": {},
     "execution_count": 23
    }
   ],
   "source": [
    "df['len_review'].mean()"
   ]
  },
  {
   "cell_type": "code",
   "execution_count": 24,
   "metadata": {},
   "outputs": [
    {
     "output_type": "execute_result",
     "data": {
      "text/plain": "13.933975984187256"
     },
     "metadata": {},
     "execution_count": 24
    }
   ],
   "source": [
    "df['len_review'].std()"
   ]
  },
  {
   "cell_type": "code",
   "execution_count": 25,
   "metadata": {},
   "outputs": [],
   "source": [
    "# Pad/truncate everything to 50"
   ]
  },
  {
   "cell_type": "code",
   "execution_count": null,
   "metadata": {},
   "outputs": [],
   "source": [
    "# varun/new_dir/*"
   ]
  },
  {
   "cell_type": "code",
   "execution_count": null,
   "metadata": {},
   "outputs": [],
   "source": [
    "# Electronics, Home & Kitchen,  "
   ]
  }
 ],
 "metadata": {
  "language_info": {
   "codemirror_mode": {
    "name": "ipython",
    "version": 3
   },
   "file_extension": ".py",
   "mimetype": "text/x-python",
   "name": "python",
   "nbconvert_exporter": "python",
   "pygments_lexer": "ipython3",
   "version": "3.7.7-final"
  },
  "orig_nbformat": 2,
  "kernelspec": {
   "name": "python_defaultSpec_1597659941626",
   "display_name": "Python 3.7.7 64-bit ('tf2': conda)"
  }
 },
 "nbformat": 4,
 "nbformat_minor": 2
}