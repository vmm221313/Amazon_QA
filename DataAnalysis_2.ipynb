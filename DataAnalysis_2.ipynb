{
 "cells": [
  {
   "cell_type": "code",
   "execution_count": 1,
   "metadata": {},
   "outputs": [],
   "source": [
    "import pickle\n",
    "import pandas as po"
   ]
  },
  {
   "cell_type": "code",
   "execution_count": 3,
   "metadata": {
    "tags": []
   },
   "outputs": [],
   "source": [
    "with open('data/data_v2/Auto_meta_qar.pkl', 'rb') as f:\n",
    "    data = pickle.load(f)"
   ]
  },
  {
   "cell_type": "code",
   "execution_count": 7,
   "metadata": {},
   "outputs": [
    {
     "output_type": "execute_result",
     "data": {
      "text/plain": "2599"
     },
     "metadata": {},
     "execution_count": 7
    }
   ],
   "source": [
    "len(data)"
   ]
  },
  {
   "cell_type": "code",
   "execution_count": 12,
   "metadata": {},
   "outputs": [
    {
     "output_type": "execute_result",
     "data": {
      "text/plain": "{'title': 'Astro 7886 A/C Compressor Clutch Installer/Remover Kit',\n 'category': ['Automotive',\n  'Replacement Parts',\n  'Transmission & Drive Train',\n  'Clutches & Parts'],\n 'description': [\"AST7886 Features: -Replaces clutches found on FS6, C171, 6P, and 148 compressors. -2 and 3 hole puller plate fits most clutches, mechanical force does the pulling. -Blow molded case for easy storage and transport. -A/C Compressor Clutch Installer/Remover Kit. Product Type: -Exhaust Shuttes. Generic Specifications: -GM R4 and A6, HR -6, DA -6 and V5 A/C compressors, Sanded compressors SD505, 507, 510, 708, and 709. Generic Dimensions: -Case 23''L x 10'' W x 2''H. Dimensions: Overall Height - Top to Bottom: -2.25 Inches. Overall Width - Side to Side: -8.25 Inches. Overall Depth - Front to Back: -9.25 Inches. Overall Product Weight: -3.11 Pounds.\",\n  'Symptoms of a bad compressor or compressor clutch include poor or no cooling, and a noisy or seized compressor.'],\n 'questions_answers': [['will it work on a 04 silverado 5.3l',\n   'Y',\n   ['I recieved, but never used it yet.',\n    \"I bought this tool set to take my auto AC compressor clutch off but when I went to use it I found I didn't need to take the clutch off after all.\",\n    'I did not have to move or remove the compressor',\n    \"At least on one compressor.The other compressor was a no-go as this kit didn't have the proper parts to pull the clutch.Quality and finish is acceptable, not great.\",\n    'Easy to use.',\n    'The installation of the clutchplate was a bit more difficult requiring several 1/2\" flatwashers for spacers as I pressed the clutch in place.The operation was a success.',\n    \"But this is such a nice set of tools in such a nice case I'm glad I have it for future use.\",\n    'Great tool kit to have.',\n    'The removal went wellwith the metric GM tool.',\n    'I used this tool kit on a 1990 GMC K3500 1 ton truck.In general the tool worked well.']],\n  ['will it work on 99 silverado v8',\n   'Y',\n   ['I recieved, but never used it yet.',\n    'Easy to use.',\n    'I did not have to move or remove the compressor',\n    \"At least on one compressor.The other compressor was a no-go as this kit didn't have the proper parts to pull the clutch.Quality and finish is acceptable, not great.\",\n    \"But this is such a nice set of tools in such a nice case I'm glad I have it for future use.\",\n    'Great tool kit to have.',\n    \"I bought this tool set to take my auto AC compressor clutch off but when I went to use it I found I didn't need to take the clutch off after all.\",\n    'It looked like it would work very well....',\n    'The removal went wellwith the metric GM tool.',\n    'The installation of the clutchplate was a bit more difficult requiring several 1/2\" flatwashers for spacers as I pressed the clutch in place.The operation was a success.']],\n  ['will this work on a 99 chevy S-10   2.2L motor',\n   'Y',\n   ['Easy to use.',\n    'I recieved, but never used it yet.',\n    'It looked like it would work very well....',\n    'I did not have to move or remove the compressor',\n    \"But this is such a nice set of tools in such a nice case I'm glad I have it for future use.\",\n    'Great tool kit to have.',\n    \"At least on one compressor.The other compressor was a no-go as this kit didn't have the proper parts to pull the clutch.Quality and finish is acceptable, not great.\",\n    'The removal went wellwith the metric GM tool.',\n    \"I bought this tool set to take my auto AC compressor clutch off but when I went to use it I found I didn't need to take the clutch off after all.\",\n    'The installation of the clutchplate was a bit more difficult requiring several 1/2\" flatwashers for spacers as I pressed the clutch in place.The operation was a success.']]]}"
     },
     "metadata": {},
     "execution_count": 12
    }
   ],
   "source": [
    "row = data[list(data.keys())[0]]\n",
    "row"
   ]
  },
  {
   "cell_type": "code",
   "execution_count": 13,
   "metadata": {},
   "outputs": [
    {
     "output_type": "execute_result",
     "data": {
      "text/plain": "'Astro 7886 A/C Compressor Clutch Installer/Remover Kit'"
     },
     "metadata": {},
     "execution_count": 13
    }
   ],
   "source": [
    "row['title']"
   ]
  },
  {
   "cell_type": "code",
   "execution_count": 14,
   "metadata": {},
   "outputs": [
    {
     "output_type": "execute_result",
     "data": {
      "text/plain": "['Automotive',\n 'Replacement Parts',\n 'Transmission & Drive Train',\n 'Clutches & Parts']"
     },
     "metadata": {},
     "execution_count": 14
    }
   ],
   "source": [
    "row['category']"
   ]
  },
  {
   "cell_type": "code",
   "execution_count": 15,
   "metadata": {},
   "outputs": [
    {
     "output_type": "execute_result",
     "data": {
      "text/plain": "[\"AST7886 Features: -Replaces clutches found on FS6, C171, 6P, and 148 compressors. -2 and 3 hole puller plate fits most clutches, mechanical force does the pulling. -Blow molded case for easy storage and transport. -A/C Compressor Clutch Installer/Remover Kit. Product Type: -Exhaust Shuttes. Generic Specifications: -GM R4 and A6, HR -6, DA -6 and V5 A/C compressors, Sanded compressors SD505, 507, 510, 708, and 709. Generic Dimensions: -Case 23''L x 10'' W x 2''H. Dimensions: Overall Height - Top to Bottom: -2.25 Inches. Overall Width - Side to Side: -8.25 Inches. Overall Depth - Front to Back: -9.25 Inches. Overall Product Weight: -3.11 Pounds.\",\n 'Symptoms of a bad compressor or compressor clutch include poor or no cooling, and a noisy or seized compressor.']"
     },
     "metadata": {},
     "execution_count": 15
    }
   ],
   "source": [
    "row['description']"
   ]
  },
  {
   "cell_type": "code",
   "execution_count": 18,
   "metadata": {},
   "outputs": [
    {
     "output_type": "execute_result",
     "data": {
      "text/plain": "[['will it work on a 04 silverado 5.3l',\n  'Y',\n  ['I recieved, but never used it yet.',\n   \"I bought this tool set to take my auto AC compressor clutch off but when I went to use it I found I didn't need to take the clutch off after all.\",\n   'I did not have to move or remove the compressor',\n   \"At least on one compressor.The other compressor was a no-go as this kit didn't have the proper parts to pull the clutch.Quality and finish is acceptable, not great.\",\n   'Easy to use.',\n   'The installation of the clutchplate was a bit more difficult requiring several 1/2\" flatwashers for spacers as I pressed the clutch in place.The operation was a success.',\n   \"But this is such a nice set of tools in such a nice case I'm glad I have it for future use.\",\n   'Great tool kit to have.',\n   'The removal went wellwith the metric GM tool.',\n   'I used this tool kit on a 1990 GMC K3500 1 ton truck.In general the tool worked well.']],\n ['will it work on 99 silverado v8',\n  'Y',\n  ['I recieved, but never used it yet.',\n   'Easy to use.',\n   'I did not have to move or remove the compressor',\n   \"At least on one compressor.The other compressor was a no-go as this kit didn't have the proper parts to pull the clutch.Quality and finish is acceptable, not great.\",\n   \"But this is such a nice set of tools in such a nice case I'm glad I have it for future use.\",\n   'Great tool kit to have.',\n   \"I bought this tool set to take my auto AC compressor clutch off but when I went to use it I found I didn't need to take the clutch off after all.\",\n   'It looked like it would work very well....',\n   'The removal went wellwith the metric GM tool.',\n   'The installation of the clutchplate was a bit more difficult requiring several 1/2\" flatwashers for spacers as I pressed the clutch in place.The operation was a success.']],\n ['will this work on a 99 chevy S-10   2.2L motor',\n  'Y',\n  ['Easy to use.',\n   'I recieved, but never used it yet.',\n   'It looked like it would work very well....',\n   'I did not have to move or remove the compressor',\n   \"But this is such a nice set of tools in such a nice case I'm glad I have it for future use.\",\n   'Great tool kit to have.',\n   \"At least on one compressor.The other compressor was a no-go as this kit didn't have the proper parts to pull the clutch.Quality and finish is acceptable, not great.\",\n   'The removal went wellwith the metric GM tool.',\n   \"I bought this tool set to take my auto AC compressor clutch off but when I went to use it I found I didn't need to take the clutch off after all.\",\n   'The installation of the clutchplate was a bit more difficult requiring several 1/2\" flatwashers for spacers as I pressed the clutch in place.The operation was a success.']]]"
     },
     "metadata": {},
     "execution_count": 18
    }
   ],
   "source": [
    "row['questions_answers']"
   ]
  },
  {
   "cell_type": "code",
   "execution_count": 19,
   "metadata": {},
   "outputs": [
    {
     "output_type": "execute_result",
     "data": {
      "text/plain": "['will it work on a 04 silverado 5.3l',\n 'Y',\n ['I recieved, but never used it yet.',\n  \"I bought this tool set to take my auto AC compressor clutch off but when I went to use it I found I didn't need to take the clutch off after all.\",\n  'I did not have to move or remove the compressor',\n  \"At least on one compressor.The other compressor was a no-go as this kit didn't have the proper parts to pull the clutch.Quality and finish is acceptable, not great.\",\n  'Easy to use.',\n  'The installation of the clutchplate was a bit more difficult requiring several 1/2\" flatwashers for spacers as I pressed the clutch in place.The operation was a success.',\n  \"But this is such a nice set of tools in such a nice case I'm glad I have it for future use.\",\n  'Great tool kit to have.',\n  'The removal went wellwith the metric GM tool.',\n  'I used this tool kit on a 1990 GMC K3500 1 ton truck.In general the tool worked well.']]"
     },
     "metadata": {},
     "execution_count": 19
    }
   ],
   "source": [
    "row['questions_answers'][0]"
   ]
  },
  {
   "cell_type": "code",
   "execution_count": 20,
   "metadata": {},
   "outputs": [
    {
     "output_type": "execute_result",
     "data": {
      "text/plain": "'will it work on a 04 silverado 5.3l'"
     },
     "metadata": {},
     "execution_count": 20
    }
   ],
   "source": [
    "row['questions_answers'][0][0] # question"
   ]
  },
  {
   "cell_type": "code",
   "execution_count": 21,
   "metadata": {},
   "outputs": [
    {
     "output_type": "execute_result",
     "data": {
      "text/plain": "'Y'"
     },
     "metadata": {},
     "execution_count": 21
    }
   ],
   "source": [
    "row['questions_answers'][0][1] # label"
   ]
  },
  {
   "cell_type": "code",
   "execution_count": 22,
   "metadata": {},
   "outputs": [
    {
     "output_type": "execute_result",
     "data": {
      "text/plain": "['I recieved, but never used it yet.',\n \"I bought this tool set to take my auto AC compressor clutch off but when I went to use it I found I didn't need to take the clutch off after all.\",\n 'I did not have to move or remove the compressor',\n \"At least on one compressor.The other compressor was a no-go as this kit didn't have the proper parts to pull the clutch.Quality and finish is acceptable, not great.\",\n 'Easy to use.',\n 'The installation of the clutchplate was a bit more difficult requiring several 1/2\" flatwashers for spacers as I pressed the clutch in place.The operation was a success.',\n \"But this is such a nice set of tools in such a nice case I'm glad I have it for future use.\",\n 'Great tool kit to have.',\n 'The removal went wellwith the metric GM tool.',\n 'I used this tool kit on a 1990 GMC K3500 1 ton truck.In general the tool worked well.']"
     },
     "metadata": {},
     "execution_count": 22
    }
   ],
   "source": [
    "row['questions_answers'][0][2] # reviews"
   ]
  },
  {
   "cell_type": "code",
   "execution_count": 23,
   "metadata": {},
   "outputs": [],
   "source": [
    "X = []\n",
    "y = []"
   ]
  },
  {
   "cell_type": "code",
   "execution_count": null,
   "metadata": {},
   "outputs": [],
   "source": [
    "df = po.DataFrame()"
   ]
  },
  {
   "cell_type": "code",
   "execution_count": 27,
   "metadata": {
    "tags": []
   },
   "outputs": [
    {
     "output_type": "stream",
     "name": "stdout",
     "text": "Astro 7886 A/C Compressor Clutch Installer/Remover Kit Automotive Replacement Parts Transmission & Drive Train Clutches & Parts AST7886 Features: -Replaces clutches found on FS6, C171, 6P, and 148 compressors. -2 and 3 hole puller plate fits most clutches, mechanical force does the pulling. -Blow molded case for easy storage and transport. -A/C Compressor Clutch Installer/Remover Kit. Product Type: -Exhaust Shuttes. Generic Specifications: -GM R4 and A6, HR -6, DA -6 and V5 A/C compressors, Sanded compressors SD505, 507, 510, 708, and 709. Generic Dimensions: -Case 23''L x 10'' W x 2''H. Dimensions: Overall Height - Top to Bottom: -2.25 Inches. Overall Width - Side to Side: -8.25 Inches. Overall Depth - Front to Back: -9.25 Inches. Overall Product Weight: -3.11 Pounds. Symptoms of a bad compressor or compressor clutch include poor or no cooling, and a noisy or seized compressor.\n"
    }
   ],
   "source": [
    "for key in data:\n",
    "    row = data[key]\n",
    "\n",
    "    meta = ' '.join([row['title'], ' '.join(row['category']), ' '.join(row['description'])])\n",
    "    \n",
    "    for i in range(len(row['questions_answers'])):\n",
    "        ques = row['questions_answers'][i][0]\n",
    "        target = row['questions_answers'][i][1]\n",
    "\n",
    "        for ans in row['questions_answers'][0][2]:\n",
    "            df_row = {}\n",
    "            df_row['meta'] = meta\n",
    "            df_row['question'] = ques\n",
    "            df_row['review'] = ans\n",
    "\n",
    "            if target == 'Y':\n",
    "                df_row['target'] = 1 \n",
    "            elif target = 'N':\n",
    "                df_row['target'] = 0\n",
    "            else:\n",
    "                raise ValueError\n",
    "\n",
    "    break"
   ]
  },
  {
   "cell_type": "code",
   "execution_count": null,
   "metadata": {},
   "outputs": [],
   "source": []
  }
 ],
 "metadata": {
  "language_info": {
   "codemirror_mode": {
    "name": "ipython",
    "version": 3
   },
   "file_extension": ".py",
   "mimetype": "text/x-python",
   "name": "python",
   "nbconvert_exporter": "python",
   "pygments_lexer": "ipython3",
   "version": "3.7.7-final"
  },
  "orig_nbformat": 2,
  "kernelspec": {
   "name": "python_defaultSpec_1597252580489",
   "display_name": "Python 3.7.7 64-bit ('tf2': conda)"
  }
 },
 "nbformat": 4,
 "nbformat_minor": 2
}